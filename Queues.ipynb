{
  "nbformat": 4,
  "nbformat_minor": 0,
  "metadata": {
    "colab": {
      "name": "Queues.ipynb",
      "version": "0.3.2",
      "provenance": [],
      "collapsed_sections": []
    },
    "kernelspec": {
      "name": "python3",
      "display_name": "Python 3"
    }
  },
  "cells": [
    {
      "metadata": {
        "id": "TDppRkkgV1V1",
        "colab_type": "text"
      },
      "cell_type": "markdown",
      "source": [
        "# 큐(Queue) : 자료를 보관할 수 있는 특수한 선형구조\n",
        "\n",
        "- 넣을때에는 한 쪽 끝에서 밀어넣어야 하고(enqueue)\n",
        "\n",
        "\n",
        "- 꺼낼 때에는 반대 쪽에서 뽑아 꺼내야 하는 제약이 있음(dequeue)\n",
        "\n",
        "- FIFO : 먼저들어간 데이터가 먼저나온다.\n",
        "\n",
        "- 배열 / 연결리스트를 이용하여 구현 가능\n",
        "\n",
        "**- 배열로 구현한 큐의 연산 복잡도** \n",
        "\n",
        "   -  dequeue() = O(n) 제외,  모두 O(1)\n",
        "   - dequeue 를 하면 맨 앞에 것을 뺀 후에 한칸씩 모두 당겨와야 하기 때문이다. \n",
        "   - 참고로 배열로 구현한 스택은 모두 O(1) 이었음\n",
        "   \n",
        "   \n",
        "**- 이중 연결 리스트로 큐를 구현** \n",
        "\n",
        "- 이중 연결 리스트 부분 : class LinkedListQueue:"
      ]
    },
    {
      "metadata": {
        "id": "yTb1FQ81YxX8",
        "colab_type": "code",
        "colab": {}
      },
      "cell_type": "code",
      "source": [
        "class Node:\n",
        "\n",
        "    def __init__(self, item):\n",
        "        self.data = item\n",
        "        self.prev = None\n",
        "        self.next = None\n",
        "\n",
        "\n",
        "\n",
        "class DoublyLinkedList:\n",
        "\n",
        "    def __init__(self):\n",
        "        self.nodeCount = 0\n",
        "        self.head = Node(None)\n",
        "        self.tail = Node(None)\n",
        "        self.head.prev = None\n",
        "        self.head.next = self.tail\n",
        "        self.tail.prev = self.head\n",
        "        self.tail.next = None\n",
        "\n",
        "\n",
        "    def __repr__(self):\n",
        "        if self.nodeCount == 0:\n",
        "            return 'LinkedList: empty'\n",
        "\n",
        "        s = ''\n",
        "        curr = self.head\n",
        "        while curr.next.next:\n",
        "            curr = curr.next\n",
        "            s += repr(curr.data)\n",
        "            if curr.next.next is not None:\n",
        "                s += ' -> '\n",
        "        return s\n",
        "\n",
        "\n",
        "    def getLength(self):\n",
        "        return self.nodeCount\n",
        "\n",
        "\n",
        "    def traverse(self):\n",
        "        result = []\n",
        "        curr = self.head\n",
        "        while curr.next.next:\n",
        "            curr = curr.next\n",
        "            result.append(curr.data)\n",
        "        return result\n",
        "\n",
        "\n",
        "    def reverse(self):\n",
        "        result = []\n",
        "        curr = self.tail\n",
        "        while curr.prev.prev:\n",
        "            curr = curr.prev\n",
        "            result.append(curr.data)\n",
        "        return result\n",
        "\n",
        "\n",
        "    def getAt(self, pos):\n",
        "        if pos < 0 or pos > self.nodeCount:\n",
        "            return None\n",
        "\n",
        "        if pos > self.nodeCount // 2:\n",
        "            i = 0\n",
        "            curr = self.tail\n",
        "            while i < self.nodeCount - pos + 1:\n",
        "                curr = curr.prev\n",
        "                i += 1\n",
        "        else:\n",
        "            i = 0\n",
        "            curr = self.head\n",
        "            while i < pos:\n",
        "                curr = curr.next\n",
        "                i += 1\n",
        "\n",
        "        return curr\n",
        "\n",
        "\n",
        "    def insertAfter(self, prev, newNode):\n",
        "        next = prev.next\n",
        "        newNode.prev = prev\n",
        "        newNode.next = next\n",
        "        prev.next = newNode\n",
        "        next.prev = newNode\n",
        "        self.nodeCount += 1\n",
        "        return True\n",
        "\n",
        "\n",
        "    def insertAt(self, pos, newNode):\n",
        "        if pos < 1 or pos > self.nodeCount + 1:\n",
        "            return False\n",
        "\n",
        "        prev = self.getAt(pos - 1)\n",
        "        return self.insertAfter(prev, newNode)\n",
        "\n",
        "\n",
        "    def popAfter(self, prev):\n",
        "        curr = prev.next\n",
        "        next = curr.next\n",
        "        prev.next = next\n",
        "        next.prev = prev\n",
        "        self.nodeCount -= 1\n",
        "        return curr.data\n",
        "\n",
        "\n",
        "    def popAt(self, pos):\n",
        "        if pos < 1 or pos > self.nodeCount:\n",
        "            raise IndexError('Index out of range')\n",
        "\n",
        "        prev = self.getAt(pos - 1)\n",
        "        return self.popAfter(prev)\n",
        "\n",
        "\n",
        "    def concat(self, L):\n",
        "        self.tail.prev.next = L.head.next\n",
        "        L.head.next.prev = self.tail.prev\n",
        "        self.tail = L.tail\n",
        "\n",
        "        self.nodeCount += L.nodeCount"
      ],
      "execution_count": 0,
      "outputs": []
    },
    {
      "metadata": {
        "id": "1LEvbdqznuc4",
        "colab_type": "code",
        "colab": {}
      },
      "cell_type": "code",
      "source": [
        "class LinkedListQueue:\n",
        "\n",
        "    def __init__(self):\n",
        "        self.data = DoublyLinkedList()\n",
        "\n",
        "    def size(self):\n",
        "        return self.data.getLength()\n",
        "\n",
        "\n",
        "    def isEmpty(self):\n",
        "        return self.size() == 0\n",
        "\n",
        "\n",
        "    def enqueue(self, item):\n",
        "        node = Node(item)  # 새로운 이중연결리스트 노드를 만든다.\n",
        "        self.data.insertAt(self.size()+1, node)\n",
        "      \n",
        "\n",
        "    def dequeue(self):\n",
        "        return self.data.popAt(1)  # 이중연결리스트의 첫번째 노드\n",
        "\n",
        "\n",
        "    def peek(self):\n",
        "        return self.data.getAt(1).data  # 첫번째 노드의 '데이터원소'만 가져와야함, 링크 X\n"
      ],
      "execution_count": 0,
      "outputs": []
    },
    {
      "metadata": {
        "id": "FDXW8bK0nve1",
        "colab_type": "code",
        "colab": {}
      },
      "cell_type": "code",
      "source": [
        ""
      ],
      "execution_count": 0,
      "outputs": []
    },
    {
      "metadata": {
        "id": "81z3H4Dqnypb",
        "colab_type": "text"
      },
      "cell_type": "markdown",
      "source": [
        "# 환형 큐(Circular Queues)\n",
        "\n",
        "\n",
        "- 큐에 담을 수 있는 데이터의 양이 무한할 수는 없다. \n",
        "- 큐에 담을 수 있는 원소의 개수의 상한을 미리 정하고  큐의 맨 앞과 맨뒤를 가리키는 인덱스를 기억해두면 데이터의 원소가 빠져 나간 쪽의 저장소를 재활용해서 관리할 수 있다.\n",
        "- 즉, 정해진 개수의 저장 공간을 빙 돌려가며 이용 ( front와 rear를 적절히 활용 )\n",
        "- 자료가 삽입되는 인덱스의 포인터 : rear \n",
        "- 자료가 삭제되는 인덱스의 포인터 : front \n",
        "\n",
        "\n",
        "- 환형 큐의 구현은 ' 배열 / 연결리스트 ' 중 어떤것을 이용하는게 좋을까?\n",
        "    - 선형배열"
      ]
    },
    {
      "metadata": {
        "id": "lGktKN92wRPQ",
        "colab_type": "text"
      },
      "cell_type": "markdown",
      "source": [
        "### 연산의 정의\n",
        "- 스택의 연산들에 하나만 더 추가 \n",
        "- isFull( ) : 큐에 데이터 원소가 꽉 차 있는지 판단 "
      ]
    },
    {
      "metadata": {
        "id": "isuNI_dkn07X",
        "colab_type": "code",
        "colab": {}
      },
      "cell_type": "code",
      "source": [
        "# 배열로 구현한 환형 큐\n",
        "\n",
        "                \n",
        "class CircularQueue:\n",
        " \n",
        "    def __init__(self, n):  # 빈 큐를 초기화\n",
        "        self.maxCount = n  # 최대 큐의 길이\n",
        "        self.data = [None] * n  # 실제 데이터 저장공간, n개로 채워놓음\n",
        "        self.count = 0  # 현재 큐에 들어있는 데이터 원소의 개수 \n",
        "        self.front = -1\n",
        "        self.rear = -1\n",
        "\n",
        "\n",
        "    def size(self):\n",
        "        return self.count\n",
        "\n",
        "    def isEmpty(self):\n",
        "        return self.count == 0\n",
        "\n",
        "    def isFull(self):\n",
        "        return self.count == self.maxCount\n",
        "\n",
        "    def enqueue(self, x):\n",
        "        if self.isFull():\n",
        "            raise IndexError('Queue full')\n",
        "        self.rear = (self.rear+1) % self.maxCount  # 환형이므로 인덱스 주의 \n",
        "\n",
        "        self.data[self.rear] = x\n",
        "        self.count += 1\n",
        "\n",
        "    def dequeue(self):\n",
        "        if self.isEmpty():\n",
        "            raise IndexError('Queue empty')\n",
        "        self.front = (self.front+1) % self.maxCount  # 환형이므로 인덱스 주의 \n",
        "\n",
        "        x = self.data[self.front]\n",
        "\n",
        "        self.count -= 1\n",
        "        return x\n",
        "\n",
        "    def peek(self):\n",
        "        if self.isEmpty():\n",
        "            raise IndexError('Queue empty')\n",
        "        return self.data[(self.front+1) % self.maxCount]  # 환형이므로 인덱스 주의 \n",
        "\n",
        "    \n",
        "    \n",
        "        \n",
        "        "
      ],
      "execution_count": 0,
      "outputs": []
    },
    {
      "metadata": {
        "id": "gKWKPA87BobJ",
        "colab_type": "code",
        "colab": {}
      },
      "cell_type": "code",
      "source": [
        ""
      ],
      "execution_count": 0,
      "outputs": []
    },
    {
      "metadata": {
        "id": "HkWeWOMXxvLd",
        "colab_type": "text"
      },
      "cell_type": "markdown",
      "source": [
        "##  응용문제 :  조세퍼스 문제 (1158번)\n",
        "\n",
        "https://www.acmicpc.net/\n",
        "\n",
        "\n",
        "\n"
      ]
    },
    {
      "metadata": {
        "id": "leLqMpCm0bMG",
        "colab_type": "code",
        "colab": {}
      },
      "cell_type": "code",
      "source": [
        "tmp = input().split()\n",
        "N = int(tmp[0])\n",
        "M = int(tmp[1])\n",
        "\n",
        "my_array = list(range(1,N+1))\n",
        "\n",
        "cnt = N  \n",
        "idx = 0 \n",
        "result = []\n",
        "\n",
        "while cnt > 0:\n",
        "    idx = (idx+(M-1)) % cnt\n",
        "    result.append(my_array.pop(idx))\n",
        "    cnt -= 1 \n",
        "\n",
        "print(\"<\", end='')\n",
        "print(*result,sep=\", \",end ='')\n",
        "print(\">\", end='')"
      ],
      "execution_count": 0,
      "outputs": []
    },
    {
      "metadata": {
        "id": "ON-8DGRAA6jf",
        "colab_type": "text"
      },
      "cell_type": "markdown",
      "source": [
        "## 우선순위 큐 (Priority Queues)\n",
        "\n",
        "\n",
        "- 큐에 원소를 추가하는 연산은 다른 점이 없되, 큐에서 원소를 꺼내는 원칙은 원소들 사이의 우선순위에 따르는 자료구조\n",
        "\n",
        "- 운영체제에서 CPU 스케줄러를 구현할 때, 현재 실행할 수 있는 작업들 중 가장 우선순위가 높은 것을 골라 실행하는 알고리즘같은 것이 있습니다.\n"
      ]
    },
    {
      "metadata": {
        "id": "FG8UCB-uCGN0",
        "colab_type": "text"
      },
      "cell_type": "markdown",
      "source": [
        "우선순위 큐의 구현\n",
        "\n",
        "(1) Enqueue 할 때 우선순위 순서를 유지하도록\n",
        "\n",
        "(2) Dequeue 할 때 우선순위 높은것을 선택하도록\n",
        "\n",
        "**=> (1) 번이 시간복잡도면에서 유리함 **\n",
        "\n",
        "**=> 배열보다 '연결리스트'로 구현하는게 시간복잡도면에서 유리함**"
      ]
    },
    {
      "metadata": {
        "id": "YUpswg_iA94w",
        "colab_type": "code",
        "colab": {}
      },
      "cell_type": "code",
      "source": [
        "class priorityQueue:\n",
        "    def __init__(self,x):\n",
        "        self.queue = DoublyLinkedList()\n",
        "    \n",
        "    def enqueue:\n",
        "        \n",
        "    curr = 처음시작할때 어디서 시작하지?\n",
        "    while 끝가지 안갔을때 , 우선순위가 지켜졌을 때 \n",
        "        양방향 연결리스트에 삽입\n",
        "    insertAt \n",
        "\n"
      ],
      "execution_count": 0,
      "outputs": []
    },
    {
      "metadata": {
        "id": "VYNPxuZsCHvz",
        "colab_type": "code",
        "colab": {}
      },
      "cell_type": "code",
      "source": [
        "# DoublyLinkedList를 이용한 우선순위 큐의 구현\n",
        "\n",
        "# Enqueue 할 때 우선순위 순서를 유지하면서 삽입하도록 def enqueue  코드만 수정\n",
        "\n",
        "# 숫자가 작은수부터 먼저 나오도록 하는 우선순위 큐를 구현 \n",
        "\n",
        "\n",
        "class PriorityQueue:  \n",
        "\n",
        "    def __init__(self):\n",
        "        self.queue = DoublyLinkedList()\n",
        "\n",
        "\n",
        "    def size(self):\n",
        "        return self.queue.getLength()\n",
        "\n",
        "    def isEmpty(self):\n",
        "        return self.size() == 0\n",
        "\n",
        "    def enqueue(self, x):\n",
        "        newNode = Node(x)\n",
        "        curr = self.queue.getAt(0)  # head에서 시작\n",
        "\n",
        "        \n",
        "        # 주의사항 : getAt 메서드를 이용하면 매번 반복문이 돌때마다 pos를 계산하므로, \n",
        "        # next라는 포인터를 사용해서 찾아가도록 한다.\n",
        "\n",
        "        while curr.next.data != None and x < curr.next.data:\n",
        "            curr = curr.next\n",
        "        self.queue.insertAfter(curr, newNode)\n",
        "        \n",
        "    def dequeue(self):\n",
        "        return self.queue.popAt(self.queue.getLength())\n",
        "\n",
        "    def peek(self):\n",
        "        return self.queue.getAt(self.queue.getLength()).data\n",
        "\n",
        "      \n",
        "    \n",
        "    "
      ],
      "execution_count": 0,
      "outputs": []
    },
    {
      "metadata": {
        "id": "qjEj58s-HUVg",
        "colab_type": "code",
        "colab": {}
      },
      "cell_type": "code",
      "source": [
        ""
      ],
      "execution_count": 0,
      "outputs": []
    }
  ]
}
