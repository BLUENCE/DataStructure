{
  "nbformat": 4,
  "nbformat_minor": 0,
  "metadata": {
    "colab": {
      "name": "LinkedLists.ipynb",
      "version": "0.3.2",
      "provenance": [],
      "collapsed_sections": []
    },
    "kernelspec": {
      "name": "python3",
      "display_name": "Python 3"
    }
  },
  "cells": [
    {
      "metadata": {
        "id": "UDELMu3cdl3f",
        "colab_type": "text"
      },
      "cell_type": "markdown",
      "source": [
        "# 연결 리스트 (Linked Lists)\n",
        "\n",
        "- 선형 배열이 번호가 붙여진 칸에 원소들을 채워넣는 방식이라고 한다면, 연결 리스트는 각 원소들을 줄줄이 엮어서 관리하는 방식\n",
        "\n",
        "\n",
        "- 연결 리스트에서는 원소들이 링크 (link) 라고 부르는 고리로 연결되어 있으므로, 가운데에서 끊어 하나를 삭제하거나, 아니면 가운데를 끊고 그 자리에 다른 원소를 (원소들을) 삽입하는 것이 선형 배열의 경우보다 쉽다.\n",
        "\n",
        "- 원소의 삽입/삭제가 빈번히 일어나는 응용에서는 연결 리스트가 많이 이용된다.\n",
        "\n"
      ]
    },
    {
      "metadata": {
        "id": "2XjiYidglLb-",
        "colab_type": "text"
      },
      "cell_type": "markdown",
      "source": [
        "## 추상적데이터구조 : abstract data structures \n",
        "\n",
        ": 물리적인 자료구조 X, 선풍기처럼 기능과 사용방법을 만들어놓는 것 뿐임\n",
        "\n",
        "- 연결리스트의 추상적 자료구조 만들기  \n",
        "클래스를 활용하여 노드와, 비어있는 연결리스트 만들고\n",
        "해당 자료구조의 속성대로 연산을 만들어 놓는다. \n"
      ]
    },
    {
      "metadata": {
        "id": "q8z03Jw4v3CL",
        "colab_type": "text"
      },
      "cell_type": "markdown",
      "source": [
        "- Corner Case 처리 신경써야 한다. ( 원소의 삽입, 삭제시 리스트의 맨앞, 맨끝 처리 )"
      ]
    },
    {
      "metadata": {
        "id": "Nw4aLp_Kv4yN",
        "colab_type": "text"
      },
      "cell_type": "markdown",
      "source": [
        "\n",
        "- 우선 0을 시작번호로 쓰지않고, 1부터 인덱스번호로 만들고 구현해봄"
      ]
    },
    {
      "metadata": {
        "id": "WoXcTfqQd80Q",
        "colab_type": "code",
        "colab": {}
      },
      "cell_type": "code",
      "source": [
        "# This code does not have a dummy head.\n",
        "\n",
        "\n",
        "class Node:\n",
        "    \n",
        "    def __init__(self, item):\n",
        "        self.data = item\n",
        "        self.next = None\n",
        "        \n",
        "\n",
        "class LinkedList:\n",
        "\n",
        "    def __init__(self):\n",
        "        self.nodeCount = 0\n",
        "        self.head = None\n",
        "        self.tail = None\n",
        "        \n",
        "    def __repr__(self):  # 출력설정 \n",
        "        if self.nodeCount == 0:\n",
        "            return ('LinkedList: empty')\n",
        "        \n",
        "        s = ''\n",
        "        curr = self.head\n",
        "        while curr.next:\n",
        "            curr = curr.next\n",
        "            s += repr(curr.data)\n",
        "            if curr.next is not None:\n",
        "                 s += ' => '\n",
        "        return s\n",
        "        \n",
        "        \n",
        "    def getAt(self, pos):  # pos번째 값 찾기, 순차탐색\n",
        "        if pos < 1 or pos > self.nodeCount:\n",
        "            return None\n",
        "\n",
        "        i = 1   # start from at 1\n",
        "        curr = self.head\n",
        "        while i < pos:\n",
        "            curr = curr.next\n",
        "            i += 1\n",
        "        return curr\n",
        "    \n",
        "    def insertAt(self, pos, newNode):\n",
        "        if pos < 1 or pos > self.nodeCount + 1:\n",
        "            return False\n",
        "\n",
        "        if pos == 1:  # 맨 앞에 삽입\n",
        "            newNode.next = self.head\n",
        "            self.head = newNode\n",
        "\n",
        "        else:\n",
        "            if pos == self.nodeCount + 1:  # 맨 끝에 삽입\n",
        "                prev = self.tail\n",
        "            else:\n",
        "                prev = self.getAt(pos - 1)  # 삽입하려면 앞에서부터 순회필요ㅠ\n",
        "                \n",
        "            newNode.next = prev.next\n",
        "            prev.next = newNode\n",
        "\n",
        "        if pos == self.nodeCount + 1:  # 노드삽입 후 만약 끝노드면 tail 재지정\n",
        "            self.tail = newNode\n",
        "\n",
        "        self.nodeCount += 1\n",
        "        return True\n",
        "    \n",
        "    def popAt(self, pos):\n",
        "        if pos<1 or pos>self.nodeCount :  # pos가 아예 다른 경우\n",
        "            raise IndexError\n",
        "\n",
        "        if pos == 1 :  # 리스트의 맨 앞을 제거 \n",
        "            curr = self.head\n",
        "            self.head = self.head.next\n",
        "            \n",
        "            if self.nodeCount==1 :  # 만약 노드가 1개 였던 경우, tail도 조정필요\n",
        "                self.tail = None  \n",
        "        else :\n",
        "            prev = self.getAt(pos-1)\n",
        "            curr = prev.next\n",
        "            prev.next = curr.next\n",
        "            \n",
        "            if pos == self.nodeCount :  # 리스트의 맨 끝을 제거\n",
        "                self.tail = prev\n",
        "\n",
        "        self.nodeCount -= 1\n",
        "        return curr.data\n",
        "    \n",
        "\n",
        "    def traverse(self):  \n",
        "        \n",
        "        my_list = []\n",
        "        curr = self.head\n",
        "        \n",
        "        while curr != None :\n",
        "            my_list.append(curr.data)\n",
        "            curr = curr.next\n",
        "                    \n",
        "        return my_list \n",
        "    \n",
        "    \n",
        "    def concat(self, L):\n",
        "        self.tail.next = L.head\n",
        "        if L.tail:  # 주의 : 만약 뒤에 이어붙는 L리스트가 빈 것이면 tail이 None이므로..\n",
        "            self.tail = L.tail\n",
        "        self.nodeCount += L.nodeCount\n",
        "      "
      ],
      "execution_count": 0,
      "outputs": []
    },
    {
      "metadata": {
        "id": "lBCCUrVFeBwX",
        "colab_type": "code",
        "colab": {}
      },
      "cell_type": "code",
      "source": [
        "# This code have a dummy head.\n",
        "\n",
        "class Node:\n",
        "    \n",
        "    def __init__(self, item):\n",
        "        self.data = item\n",
        "        self.next = None\n",
        "        \n",
        "    def __repr__(self):  # 출력설정 \n",
        "        if self.nodeCount == 0:\n",
        "            return ('LinkedList: empty')\n",
        "        s = ''\n",
        "        curr = self.head\n",
        "        while curr.next:\n",
        "            curr = curr.next\n",
        "            s += repr(curr.data)\n",
        "            if curr.next is not None:\n",
        "                s += ' => '\n",
        "        return s        \n",
        "\n",
        "class LinkedList:\n",
        "\n",
        "    def __init__(self):  # 빈 연결리스트 생성 \n",
        "        self.nodeCount = 0\n",
        "        self.head = Node(None)   # None이 들어있는 더미헤드 추가 \n",
        "        self.tail = None  # tail을 만든다.\n",
        "        self.head.next = self.tail  # head 와 tail을 연결해놓는다.\n",
        "        \n",
        "    def traverse(self):\n",
        "        my_list = []\n",
        "        curr = self.head\n",
        "        \n",
        "        while curr.next != None:\n",
        "            curr = curr.next\n",
        "            my_list.append(curr.data)\n",
        "        return my_list \n",
        "    \n",
        "    def getAt(self, pos):\n",
        "        if pos < 0 or pos > self.nodeCount:  # start from at 0 (dummy)\n",
        "            return None\n",
        "\n",
        "        i = 0\n",
        "        curr = self.head\n",
        "        while i < pos:\n",
        "            curr = curr.next  # 앞에서부터 순차탐색해야 한다 \n",
        "            i += 1\n",
        "\n",
        "        return curr\n",
        "    \n",
        "    # 추가된 메서드\n",
        "    def insertAfter(self, prev, newNode):\n",
        "        newNode.next = prev.next\n",
        "        if prev.next is None:  # 맨 마지막노드면 tail 조정\n",
        "            self.tail = newNode \n",
        "        prev.next = newNode\n",
        "        self.nodeCount += 1\n",
        "        return True\n",
        "    \n",
        "    # insertAfter를 활용하여 위에 insertAt보다 더 간결해진 코드\n",
        "    # (1) pos 범위 조건을 확인\n",
        "    # (2) pos == 1, head뒤에 새 node 삽입 \n",
        "    # (3) pos == nodeCount + 1, prev = self.tail (순차탐색필요X)\n",
        "    # (4) 그렇지 않으면 prev = getAt() 순차탐색\n",
        "    \n",
        "    def insertAt(self, pos, newNode):\n",
        "        if pos < 1 or pos > self.nodeCount + 1:\n",
        "            return False\n",
        "        \n",
        "        # pos == 1 이고, nodecount 가 0인경우에는 빈 리스트라는 소리...\n",
        "        if pos != 1 and pos == self.nodeCount + 1:  # 맨 끝에 삽입, 빈 리스트체크\n",
        "            prev = self.tail\n",
        "        else:\n",
        "            prev = self.getAt(pos - 1)\n",
        "        return self.insertAfter(prev, newNode)\n",
        "    \n",
        "\n",
        "        # prev가 마지막노드일 때 prev.next == None, 삭제할 노드없음, return None\n",
        "        # 리스트 맨 끝의 node 삭제할때, tail 조정필요\n",
        "    def popAfter(self, prev):\n",
        "        if prev.next == None : \n",
        "            return None\n",
        "        curr = prev.next\n",
        "        \n",
        "        if curr.next == None:\n",
        "            prev.next = None\n",
        "            self.tail = prev\n",
        "        else:\n",
        "            prev.next = curr.next\n",
        "            \n",
        "        self.nodeCount -= 1\n",
        "        return curr.data\n",
        "\n",
        "    # popAfter 를 활용해서 더 간단하게 만듬, tail 을 따로 조정할 필요없음\n",
        "    \n",
        "    def popAt(self, pos):\n",
        "        if pos < 1 or pos > self.nodeCount :\n",
        "            raise IndexError\n",
        "        \n",
        "        if pos == 1 and self.nodeCount == 1:\n",
        "            prev = self.head\n",
        "        else:\n",
        "            prev = self.getAt(pos-1) \n",
        "        return LinkedList.popAfter(self, prev)"
      ],
      "execution_count": 0,
      "outputs": []
    },
    {
      "metadata": {
        "colab_type": "code",
        "id": "zEo3fTc4eIWW",
        "colab": {}
      },
      "cell_type": "code",
      "source": [
        "a = Node(25)\n",
        "b = Node(30)\n",
        "c = Node(45)\n",
        "L = LinkedList()"
      ],
      "execution_count": 0,
      "outputs": []
    },
    {
      "metadata": {
        "colab_type": "code",
        "outputId": "315965da-d0c5-4a2f-e281-8221bfec0197",
        "id": "Zkrbz0M4eIWZ",
        "colab": {
          "base_uri": "https://localhost:8080/",
          "height": 35
        }
      },
      "cell_type": "code",
      "source": [
        "L.insertAt(1,a)\n",
        "L.insertAt(2,b)\n",
        "L.insertAt(3,c)"
      ],
      "execution_count": 4,
      "outputs": [
        {
          "output_type": "execute_result",
          "data": {
            "text/plain": [
              "True"
            ]
          },
          "metadata": {
            "tags": []
          },
          "execution_count": 4
        }
      ]
    },
    {
      "metadata": {
        "colab_type": "code",
        "outputId": "7a8d5173-19dd-4c81-fcf9-cee829af4c8d",
        "id": "04u_xQFWeIWd",
        "colab": {
          "base_uri": "https://localhost:8080/",
          "height": 35
        }
      },
      "cell_type": "code",
      "source": [
        "L.popAt(3)"
      ],
      "execution_count": 5,
      "outputs": [
        {
          "output_type": "execute_result",
          "data": {
            "text/plain": [
              "45"
            ]
          },
          "metadata": {
            "tags": []
          },
          "execution_count": 5
        }
      ]
    },
    {
      "metadata": {
        "colab_type": "code",
        "outputId": "65abc3f1-5ffc-4afe-8b7e-b03a9f58567f",
        "id": "hHMcQvw1eIWi",
        "colab": {
          "base_uri": "https://localhost:8080/",
          "height": 35
        }
      },
      "cell_type": "code",
      "source": [
        "L.insertAt(2,c)"
      ],
      "execution_count": 6,
      "outputs": [
        {
          "output_type": "execute_result",
          "data": {
            "text/plain": [
              "True"
            ]
          },
          "metadata": {
            "tags": []
          },
          "execution_count": 6
        }
      ]
    },
    {
      "metadata": {
        "colab_type": "code",
        "outputId": "c50f3676-9e01-44f8-fcb4-b198307530e2",
        "id": "6SdRmeOZeIWm",
        "colab": {
          "base_uri": "https://localhost:8080/",
          "height": 35
        }
      },
      "cell_type": "code",
      "source": [
        "L.popAt(2)"
      ],
      "execution_count": 7,
      "outputs": [
        {
          "output_type": "execute_result",
          "data": {
            "text/plain": [
              "45"
            ]
          },
          "metadata": {
            "tags": []
          },
          "execution_count": 7
        }
      ]
    },
    {
      "metadata": {
        "id": "CxzWzp4beDI0",
        "colab_type": "code",
        "colab": {}
      },
      "cell_type": "code",
      "source": [
        ""
      ],
      "execution_count": 0,
      "outputs": []
    }
  ]
}