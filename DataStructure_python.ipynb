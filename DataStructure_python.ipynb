{
 "cells": [
  {
   "cell_type": "markdown",
   "metadata": {},
   "source": [
    "# What I Learned "
   ]
  },
  {
   "cell_type": "code",
   "execution_count": 4,
   "metadata": {},
   "outputs": [
    {
     "data": {
      "text/plain": [
       "[None, None, None]"
      ]
     },
     "execution_count": 4,
     "metadata": {},
     "output_type": "execute_result"
    }
   ],
   "source": [
    "# create empty list  \n",
    "\n",
    "emty_list = [None] * 3\n",
    "emty_list"
   ]
  },
  {
   "cell_type": "code",
   "execution_count": 5,
   "metadata": {
    "collapsed": true
   },
   "outputs": [],
   "source": [
    "# Create reculsion(순환) function // 순환에러 나지 않도록 주의\n",
    "\n",
    "def reculse(count):\n",
    "    if count <= 0:\n",
    "        pass\n",
    "    else:\n",
    "        print(' *')\n",
    "        reculse(count-1)"
   ]
  },
  {
   "cell_type": "code",
   "execution_count": 6,
   "metadata": {},
   "outputs": [
    {
     "name": "stdout",
     "output_type": "stream",
     "text": [
      " *\n",
      " *\n",
      " *\n",
      " *\n",
      " *\n"
     ]
    }
   ],
   "source": [
    "reculse(5)"
   ]
  },
  {
   "cell_type": "code",
   "execution_count": 7,
   "metadata": {},
   "outputs": [
    {
     "data": {
      "text/plain": [
       "87"
      ]
     },
     "execution_count": 7,
     "metadata": {},
     "output_type": "execute_result"
    }
   ],
   "source": [
    "# random, time \n",
    "\n",
    "import random \n",
    "import time\n",
    "\n",
    "\n",
    "random.seed(time.time())  # 현재 시간을 시드로 함, 항상 같은 조건에서 랜덤하게 나오도록\n",
    "\n",
    "random.randint(1,100)  # 1에서 100사이 랜덤한 정수를 출력하라 "
   ]
  },
  {
   "cell_type": "code",
   "execution_count": 16,
   "metadata": {
    "collapsed": true
   },
   "outputs": [],
   "source": [
    "# Create N! Using reculsion function ( 3! = 3 *  2 * 1)\n",
    "\n",
    "def factorial(n):\n",
    "    \n",
    "    if n <= 1:\n",
    "        return 1 \n",
    "\n",
    "    else: \n",
    "        return(n*factorial(n-1))    # 계속해서 팩토리얼로 들어가게 해서 "
   ]
  },
  {
   "cell_type": "code",
   "execution_count": null,
   "metadata": {
    "collapsed": true
   },
   "outputs": [],
   "source": [
    "# Create N! Using for statement \n",
    "\n",
    "# 순환보다는 반복문으로 변환해서 짜는게 수행속도, 메모리 사용 측면에서 효율적이다.\n",
    "\n",
    "def factorial_for(n):\n",
    "    \n",
    "    factorial = 1\n",
    "    for i in range(1,n)\n",
    "        factorial *= i   # factorial = factorial * i \n",
    "    return(factorial)"
   ]
  },
  {
   "cell_type": "code",
   "execution_count": 27,
   "metadata": {
    "collapsed": true
   },
   "outputs": [],
   "source": [
    "# 내가 초반에 만든 더러운 코드 ^^ ;; 충격적...\n",
    "\n",
    "# def my_factorial_for(n):\n",
    "    \n",
    "#     if n <=1:\n",
    "#         return 1\n",
    "#     else:\n",
    "#         result = 1\n",
    "#         for i in range(n-1):\n",
    "#             result = result * n\n",
    "#             n = n-1\n",
    "#         return(result)"
   ]
  },
  {
   "cell_type": "code",
   "execution_count": 28,
   "metadata": {},
   "outputs": [
    {
     "data": {
      "text/plain": [
       "24"
      ]
     },
     "execution_count": 28,
     "metadata": {},
     "output_type": "execute_result"
    }
   ],
   "source": [
    "factorial(4)  # 4 = 4 * 3 * 2 * 1 = 24 "
   ]
  },
  {
   "cell_type": "code",
   "execution_count": 33,
   "metadata": {},
   "outputs": [
    {
     "data": {
      "text/plain": [
       "24"
      ]
     },
     "execution_count": 33,
     "metadata": {},
     "output_type": "execute_result"
    }
   ],
   "source": [
    "factorial_for(4)"
   ]
  },
  {
   "cell_type": "markdown",
   "metadata": {},
   "source": [
    "# 단순리스트 구현해보기 \n",
    "\n",
    "* 탐색 : 순차탐색\n",
    "삽입/삭제 : 항목이동 필요 X\n",
    "\n",
    "연결 리스트는 노드들로 구성되며, 노드는 0개 이상의 데이터 필드와 1개 이상의 링크를 포함한다.\n",
    "\n",
    "즉 데이터는 비었어도, 다음 노드를 가리키는 링크는 무조건 존재해야 한다.\n",
    "\n",
    "단순 연결 리스트는 사용자가 '첫번째 노드'를 알고있어야 연결리스트에 진입할 수 있다.\n",
    "\n",
    "연결 리스트의 제일 마지막 노드는 아무것도 가리키지 않는다.\n",
    " \n",
    " 참고 : https://lee-seul.github.io/algorithm/python/2017/03/31/data-structure-03-list.html\n",
    " \n",
    " 참고 : http://onestep.tistory.com/33\n",
    " \n",
    " 구현코드 참고 : http://onestep.tistory.com/33"
   ]
  },
  {
   "cell_type": "markdown",
   "metadata": {},
   "source": [
    "## LinkedList Class 정의\n",
    "출저 : https://wayhome25.github.io/cs/2017/04/17/cs-19/\n",
    "\n",
    "해당 블로그에서 내용을 공부하면서 추가적인 주석을 달았습니다. \n",
    "\n",
    "포인트) \n",
    "\n",
    "메소드마다 예외처리 있는경우는 먼저 처리해주고, \n",
    "\n",
    "데이터랑 링크주소를 바꿔주고, 적절한 값을 리턴해준다. \n",
    "\n",
    "\n",
    "\n",
    "\n",
    "- 링크 4개 \n",
    "    - head : 맨 앞\n",
    "    - before : 현재 위치 전\n",
    "    - current : 현재 탐색 위치\n",
    "    - tail : 맨 뒤 \n",
    "\n",
    "- num_of_data : 데이터의 총 개수 \n",
    "\n",
    "\n",
    "- 메소드 5가지 구현 \n",
    "    - 생성자 : head, before, current, tail, num_of_data 초기화\n",
    "    - append() : 맨 뒤에 노드 추가 (insert)\n",
    "    - first() : 맨 앞의 노드 검색 (search)\n",
    "    - next() : 다음 노트 검색 (search)\n",
    "    - delete() : 현재 노드의 삭제 (delete)\n",
    "   "
   ]
  },
  {
   "cell_type": "code",
   "execution_count": 1,
   "metadata": {
    "collapsed": true
   },
   "outputs": [],
   "source": [
    "# 노드 클래스 정의, 일단 연결리스트 자체가 '노드'라는 구조로 구성되어 있기때문에 정의함\n",
    "\n",
    "class Node:\n",
    "    def __init__(self,data):\n",
    "        self.data = data  # 데이터필드 (데이터자체가 저장되는 공간)\n",
    "        self.next = None   # 링크 (다음 노드주소가 저장되는 공간)"
   ]
  },
  {
   "cell_type": "code",
   "execution_count": 2,
   "metadata": {},
   "outputs": [],
   "source": [
    "# LinkedList 클래스 (자료구조) 정의 \n",
    "\n",
    "class LinkedList:\n",
    "\n",
    "# 초기화 메소드(생성자)\n",
    "    def __init__(self):\n",
    "        dummy = Node(\"dummy\")\n",
    "        self.head = dummy\n",
    "        self.tail = dummy\n",
    "        \n",
    "        self.current = None\n",
    "        self.before = None\n",
    "        \n",
    "        self.num_of_data = 0  \n",
    "        \n",
    "# append 메소드 (insert)\n",
    "# 맨 뒤에 노드추가함, tail과 node의 next, 데이터개수 변경\n",
    "        \n",
    "    def append(self, data):\n",
    "        new_node = Node(data)\n",
    "        self.tail.next = new_node  # new_node만든걸 맨뒤에 next로 넣어줌\n",
    "        self.tail = new_node # 이 데이터를 tail 로 정의해준다. (끝임)\n",
    "        \n",
    "        self.num_of_data += 1   # 데이터개수가 1개 추가되었음을 알린다. \n",
    "        \n",
    "# delete 메소드 : current 노드삭제, 인접노드의 current, next변경, 데이터개수 변경 \n",
    "    \n",
    "    def delete(self):\n",
    "        pop_data = self.current.data  # 현재 current 노드 삭제 \n",
    "            \n",
    "        if self.current is self.tail:  # 만약 맨 마지막노드이면, \n",
    "            self.tail = self.before  # 이전거를 맨 마지막으로 재정의\n",
    "        \n",
    "        self.before.next = self.current.next  # 현재 다음연결링크를 이전 다음링크로 연결\n",
    "        self.current = self.before # 중요 : current가 next가 아닌 before로 변경된다\n",
    "           \n",
    "        self.num_of_data -= 1  # 데이터 개수 1개 줄였음을 알린다.\n",
    "        \n",
    "        return pop_data\n",
    "\n",
    "# first 메소드 (search1) : 맨 앞의 노드 검색, before, current 변경)\n",
    "\n",
    "    def first(self):\n",
    "        if self.num_of_data == 0: # 데이터가 없는 경우 첫번째 노드도 없기 때문에 None 리턴\n",
    "            return None\n",
    "\n",
    "        self.before = self.head  # head 에는 dummy가 있음 \n",
    "        self.current = self.head.next  # dummy 다음 처음으로 append시킨 값이 나옴\n",
    "\n",
    "        return self.current.data\n",
    "\n",
    "# next 메소드 (search2) \n",
    "# currnet 노드의 다음노드 검색 , 이전에 first 메소드가 한번은 실행되어야 한다.\n",
    "# 왜냐하면 맨 처음엔 current에  None이 들어있으므로 \n",
    "#'NoneType' object has no attribute 'next' 에러난다. \n",
    "\n",
    "    def next(self):\n",
    "        if self.current.next == None:  # 다음게 없으면 None리턴\n",
    "            return None\n",
    "        \n",
    "        self.before = self.current\n",
    "        self.current = self.current.next \n",
    "        \n",
    "        return self.current.data \n",
    "        "
   ]
  },
  {
   "cell_type": "markdown",
   "metadata": {},
   "source": [
    "## 테스트코드 "
   ]
  },
  {
   "cell_type": "code",
   "execution_count": 4,
   "metadata": {
    "collapsed": true
   },
   "outputs": [],
   "source": [
    "# if __name__ == '__main__':\n",
    "l_list = LinkedList()\n",
    "l_list.append(5)\n",
    "l_list.append(2)\n",
    "l_list.append(1)\n",
    "l_list.append(2)\n",
    "l_list.append(7)\n",
    "l_list.append(2)\n",
    "l_list.append(11)"
   ]
  },
  {
   "cell_type": "code",
   "execution_count": 6,
   "metadata": {
    "scrolled": true
   },
   "outputs": [
    {
     "name": "stdout",
     "output_type": "stream",
     "text": [
      "first : 5\n"
     ]
    }
   ],
   "source": [
    "print('first :', l_list.first())"
   ]
  },
  {
   "cell_type": "code",
   "execution_count": 7,
   "metadata": {
    "scrolled": true
   },
   "outputs": [
    {
     "name": "stdout",
     "output_type": "stream",
     "text": [
      "next : 2\n"
     ]
    }
   ],
   "source": [
    "print('next :', l_list.next())  "
   ]
  },
  {
   "cell_type": "code",
   "execution_count": 8,
   "metadata": {
    "scrolled": true
   },
   "outputs": [
    {
     "name": "stdout",
     "output_type": "stream",
     "text": [
      "delete : 2\n"
     ]
    }
   ],
   "source": [
    " print('delete :', l_list.delete())  # 2를 삭제 "
   ]
  },
  {
   "cell_type": "code",
   "execution_count": 9,
   "metadata": {
    "scrolled": true
   },
   "outputs": [
    {
     "name": "stdout",
     "output_type": "stream",
     "text": [
      "current: 5\n"
     ]
    }
   ],
   "source": [
    "  print('current:', l_list.current.data)"
   ]
  },
  {
   "cell_type": "code",
   "execution_count": 10,
   "metadata": {
    "scrolled": true
   },
   "outputs": [
    {
     "name": "stdout",
     "output_type": "stream",
     "text": [
      "tail: 11\n"
     ]
    }
   ],
   "source": [
    "print('tail:', l_list.tail.data)"
   ]
  },
  {
   "cell_type": "code",
   "execution_count": 11,
   "metadata": {
    "scrolled": true
   },
   "outputs": [
    {
     "name": "stdout",
     "output_type": "stream",
     "text": [
      "first : 5\n"
     ]
    }
   ],
   "source": [
    "print('first :', l_list.first())"
   ]
  },
  {
   "cell_type": "code",
   "execution_count": 12,
   "metadata": {},
   "outputs": [
    {
     "name": "stdout",
     "output_type": "stream",
     "text": [
      "next : 1\n"
     ]
    }
   ],
   "source": [
    "print('next :', l_list.next())"
   ]
  },
  {
   "cell_type": "code",
   "execution_count": 13,
   "metadata": {
    "scrolled": true
   },
   "outputs": [
    {
     "name": "stdout",
     "output_type": "stream",
     "text": [
      "next : 2\n"
     ]
    }
   ],
   "source": [
    "print('next :', l_list.next())"
   ]
  },
  {
   "cell_type": "code",
   "execution_count": 18,
   "metadata": {
    "scrolled": true
   },
   "outputs": [
    {
     "name": "stdout",
     "output_type": "stream",
     "text": [
      "5\n",
      "1\n",
      "2\n",
      "7\n",
      "2\n",
      "11\n"
     ]
    }
   ],
   "source": [
    "# 전체 노드의 data를 다 표시해보기 \n",
    "\n",
    "data = l_list.first()  # 일단 첫번째로 추가했던 데이터를 잡아놓고 시작\n",
    "\n",
    "if data:\n",
    "    print(data)  # print할 때 , end= ' ' 넣으면 예쁘게 출력된다.\n",
    "    \n",
    "    while True:\n",
    "        data = l_list.next()\n",
    "        if data:\n",
    "            print(data)  # print할 때 , end= ' ' 넣으면 예쁘게 출력된다.\n",
    "        else:\n",
    "            break\n",
    "\n",
    "# 5 1 2 7 2 11"
   ]
  },
  {
   "cell_type": "code",
   "execution_count": 27,
   "metadata": {
    "collapsed": true
   },
   "outputs": [],
   "source": []
  },
  {
   "cell_type": "code",
   "execution_count": null,
   "metadata": {},
   "outputs": [],
   "source": []
  },
  {
   "cell_type": "markdown",
   "metadata": {},
   "source": [
    "## 단순리스트 다르게 구현 한 코드"
   ]
  },
  {
   "cell_type": "code",
   "execution_count": 52,
   "metadata": {},
   "outputs": [],
   "source": [
    "class Node:  # 노드 클래스 정의해주기 \n",
    "    \n",
    "    def __init__(self, data, next=None):  # 초기화 \n",
    "        self.data = data  # 생성자에서 데이터를 넣는 멤버변수 \n",
    "        self.next = next  # 다음 노드를 가리키는 링크 "
   ]
  },
  {
   "cell_type": "code",
   "execution_count": 53,
   "metadata": {
    "collapsed": true
   },
   "outputs": [],
   "source": [
    "def init_list():  # 단순 연결리스트 생성 ,노드 4개 할당시켜놈\n",
    "    \n",
    "    global node1, node2, node3, node4\n",
    "    \n",
    "    node1 = Node(1)  # Node클래스에 들어갔다오면서 링크(next)가 None으로 생성됨\n",
    "    node2 = Node(2)\n",
    "    node3 = Node(3.33333)\n",
    "    node4 = Node(\"four\")\n",
    "    \n",
    "    node1.next = node2\n",
    "    node2.next = node3\n",
    "    node3.next = node4"
   ]
  },
  {
   "cell_type": "code",
   "execution_count": 49,
   "metadata": {},
   "outputs": [],
   "source": [
    "def main():\n",
    "    \n",
    "    init_list()  # 단순연결리스트 생성 \n",
    "    node = node1\n",
    "    while node:  # 노드1부터 4까지 돈다.\n",
    "        print (node.data)\n",
    "        node = node.next\n",
    "    "
   ]
  },
  {
   "cell_type": "code",
   "execution_count": 50,
   "metadata": {},
   "outputs": [
    {
     "name": "stdout",
     "output_type": "stream",
     "text": [
      "1\n",
      "2\n",
      "3.33333\n",
      "four\n"
     ]
    }
   ],
   "source": [
    "main()"
   ]
  },
  {
   "cell_type": "markdown",
   "metadata": {},
   "source": [
    "## 단순리스트 노드 삭제를 위한 링크 변경\n",
    "\n",
    "바로 이전 노드의 링크를 다음 노드를 가리키게 링크를 변경하면 된다.\n",
    "\n",
    "이후에 삭제할 노드를 메모리에서 해제하면 삭제 작업이 끝난다."
   ]
  },
  {
   "cell_type": "code",
   "execution_count": 55,
   "metadata": {},
   "outputs": [],
   "source": [
    "def delte_node(del_data):\n",
    "    \n",
    "    global node1\n",
    "    pre_node = node1   # 일단 초기 노드를 node1로 주고 \n",
    "    next_node = pre_node.next  # 초기노드의 다음것을 링크로 연결해둔다\n",
    "    \n",
    "    \n",
    "    if pre_node.data == del_data:  # 만약 삭제 요청한 노드가 초기화 되어있는 노드면 \n",
    "        node1 = next_node  # node1에 다음 노드를 넣고 \n",
    "        del pre_node  # 기존노드는 삭제한다\n",
    "        return\n",
    "    \n",
    "    while next_node:\n",
    "        if next_node.data == del_data:\n",
    "            pre_node.next = next_node.next\n",
    "            del next_node\n",
    "            break\n",
    "            \n",
    "            pre_node = next_node\n",
    "            next_node = next_node.next  "
   ]
  },
  {
   "cell_type": "code",
   "execution_count": 58,
   "metadata": {
    "collapsed": true
   },
   "outputs": [],
   "source": [
    "delte_node(2)"
   ]
  },
  {
   "cell_type": "code",
   "execution_count": 57,
   "metadata": {},
   "outputs": [
    {
     "name": "stdout",
     "output_type": "stream",
     "text": [
      "1\n",
      "2\n",
      "3.33333\n",
      "four\n"
     ]
    }
   ],
   "source": [
    "main()"
   ]
  }
 ],
 "metadata": {
  "kernelspec": {
   "display_name": "Python 3",
   "language": "python",
   "name": "python3"
  },
  "language_info": {
   "codemirror_mode": {
    "name": "ipython",
    "version": 3
   },
   "file_extension": ".py",
   "mimetype": "text/x-python",
   "name": "python",
   "nbconvert_exporter": "python",
   "pygments_lexer": "ipython3",
   "version": "3.6.3"
  }
 },
 "nbformat": 4,
 "nbformat_minor": 2
}
