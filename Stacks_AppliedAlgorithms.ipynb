{
  "nbformat": 4,
  "nbformat_minor": 0,
  "metadata": {
    "colab": {
      "name": "Stacks_AppliedAlgorithms.ipynb",
      "version": "0.3.2",
      "provenance": [],
      "collapsed_sections": []
    },
    "kernelspec": {
      "name": "python3",
      "display_name": "Python 3"
    }
  },
  "cells": [
    {
      "metadata": {
        "id": "drBc31Dyd3FC",
        "colab_type": "text"
      },
      "cell_type": "markdown",
      "source": [
        "# 스택 : 자료를 보관할 수 있는 특수한 선형 자료구조\n",
        "\n",
        "## 스택의 추상적 자료구조 구현 \n",
        "\n",
        "(1) 배열을 이용한 구현\n",
        "    - 파이썬 리스트와 내장메서드 이용\n",
        "    \n",
        "(2) 연결 리스트를 이용한 구현 \n",
        "    - 양방향 연결리스트 이용 \n",
        " "
      ]
    },
    {
      "metadata": {
        "id": "pn0zsJLWcp_1",
        "colab_type": "code",
        "colab": {}
      },
      "cell_type": "code",
      "source": [
        "# (1) 배열을 이용한 구현\n",
        "\n",
        "class ArrayStack:\n",
        "\n",
        "\tdef __init__(self):\n",
        "\t\tself.data = []\n",
        "\n",
        "\tdef size(self):\n",
        "\t\treturn len(self.data)  # 리스트의 크기반환\n",
        "\n",
        "\tdef isEmpty(self):\n",
        "\t\treturn self.size() == 0  # True, False값 리턴\n",
        "\n",
        "\tdef push(self, item):\n",
        "\t\tself.data.append(item)\n",
        "\n",
        "\tdef pop(self):\n",
        "\t\treturn self.data.pop()\n",
        "\n",
        "\tdef peek(self):\n",
        "\t\treturn self.data[-1]  # 스택의 꼭대기 원소 반환 "
      ],
      "execution_count": 0,
      "outputs": []
    },
    {
      "metadata": {
        "id": "TLw97Sy8gD-E",
        "colab_type": "code",
        "colab": {}
      },
      "cell_type": "code",
      "source": [
        "#(2) 양방향 연결리스트를 이용한 구현\n",
        "\n",
        "from doublylinkedlist import Node\n",
        "from doublylinkedlist import DoublyLinkedList\n",
        "\n",
        "\n",
        "class LinkedListStack:\n",
        "\n",
        "\tdef __init__(self):\n",
        "\t\tself.data = DoublyLinkedList()\n",
        "\n",
        "\tdef size(self):\n",
        "\t\treturn self.data.getLength()\n",
        "\n",
        "\tdef isEmpty(self):\n",
        "\t\treturn self.size() == 0\n",
        "\n",
        "\tdef push(self, item):\n",
        "\t\tnode = Node(item)\n",
        "\t\tself.data.insertAt(self.size() + 1, node)\n",
        "\n",
        "\tdef pop(self):\n",
        "\t\treturn self.data.popAt(self.size())\n",
        "\n",
        "\tdef peek(self):\n",
        "\t\treturn self.data.getAt(self.size()).data"
      ],
      "execution_count": 0,
      "outputs": []
    },
    {
      "metadata": {
        "id": "xGm86Ptgj-ML",
        "colab_type": "text"
      },
      "cell_type": "markdown",
      "source": [
        "## (1) 수식의 괄호 유효성 검사 알고리즘\n",
        "\n",
        "- 수식을 왼쪽부터 한 글자씩 읽어서\n",
        "- 여는 괄호를 만나면 스택에 푸시 \n",
        "- 닫는 괄호를 만나면:\n",
        "   -  스택이 비어있으면 올바르지 않음\n",
        "   - 스택에서 pop, 쌍을 이루는 여는괄호인지 검사\n",
        "        - 맞지 않으면 올바르지 않은 수식\n",
        "- 끝까지 검사한 후, 스택이 다 비어있어야 올바른 수식 \n",
        "    (여는괄호만 있는경우에는 False)"
      ]
    },
    {
      "metadata": {
        "id": "dM2J4-hRkFkH",
        "colab_type": "code",
        "colab": {}
      },
      "cell_type": "code",
      "source": [
        "def solution(expr):\n",
        "    match = {\n",
        "        ')': '(',\n",
        "        '}': '{',\n",
        "        ']': '['\n",
        "    }\n",
        "    S = ArrayStack()\n",
        "    for c in expr:   # 수식을 왼쪽부터 한 글자씩 읽으면서\n",
        "        if c in '({[':  # 여는 괄호를 만나면 스택에 푸시 \n",
        "            S.push(c)\n",
        "            \n",
        "        elif c in match:  # 닫는 괄호를 만나면\n",
        "            if S.isEmpty():  # 스택이 비어있으면 올바르지 않음 \n",
        "                return False\n",
        "            else:  # 스택이 있으면 입력된 닫는괄호와 쌍인지 확인\n",
        "                t = match[c]  # 짝\n",
        "                if t != S.pop()\n",
        "                    return False\n",
        "    return S.isEmpty()  # 검사가 다 끝난후, 스택이 비어있어야 올바름 \n"
      ],
      "execution_count": 0,
      "outputs": []
    },
    {
      "metadata": {
        "id": "qNhcczoKl-Wn",
        "colab_type": "code",
        "colab": {}
      },
      "cell_type": "code",
      "source": [
        "match = {\n",
        "        ')': '(',\n",
        "        '}': '{',\n",
        "        ']': '['\n",
        "}"
      ],
      "execution_count": 0,
      "outputs": []
    },
    {
      "metadata": {
        "id": "PfadnnsVmBLy",
        "colab_type": "code",
        "colab": {
          "base_uri": "https://localhost:8080/",
          "height": 35
        },
        "outputId": "62129c67-c4bc-4b33-9a1b-72b5b545c196"
      },
      "cell_type": "code",
      "source": [
        "match"
      ],
      "execution_count": 12,
      "outputs": [
        {
          "output_type": "execute_result",
          "data": {
            "text/plain": [
              "{')': '(', ']': '[', '}': '{'}"
            ]
          },
          "metadata": {
            "tags": []
          },
          "execution_count": 12
        }
      ]
    },
    {
      "metadata": {
        "id": "ZjStaW6kmB-Y",
        "colab_type": "code",
        "colab": {
          "base_uri": "https://localhost:8080/",
          "height": 35
        },
        "outputId": "9a067d57-cef8-41fa-eefc-76376179555e"
      },
      "cell_type": "code",
      "source": [
        "'}' in match"
      ],
      "execution_count": 16,
      "outputs": [
        {
          "output_type": "execute_result",
          "data": {
            "text/plain": [
              "True"
            ]
          },
          "metadata": {
            "tags": []
          },
          "execution_count": 16
        }
      ]
    },
    {
      "metadata": {
        "id": "VAaEjTudmSKU",
        "colab_type": "code",
        "colab": {
          "base_uri": "https://localhost:8080/",
          "height": 35
        },
        "outputId": "7b28805c-e958-43b9-82ee-3b9fcc972470"
      },
      "cell_type": "code",
      "source": [
        "match['}']"
      ],
      "execution_count": 21,
      "outputs": [
        {
          "output_type": "execute_result",
          "data": {
            "text/plain": [
              "'{'"
            ]
          },
          "metadata": {
            "tags": []
          },
          "execution_count": 21
        }
      ]
    },
    {
      "metadata": {
        "id": "NFmrVjUOoi3B",
        "colab_type": "text"
      },
      "cell_type": "markdown",
      "source": [
        "## (2) 스택의 응용 - 수식의 후위표기법 (Postfix Notation)\n",
        "\n",
        "**후위 표기법 : 연산자가 피연산자들의 뒤에 위치하며, 괄호가 필요 없이 앞에서부터 나타나는 연산자를 순서대로 계산하면 된다.**\n",
        "\n",
        "\n",
        "4칙연산 (더하기 +, 빼기 -, 곱하기 *, 나누기 /) 과 괄호로 이루어진 수식이 주어졌을 때 \n",
        "\n",
        "연산의 우선순위를 지키면서 이 수식의 값을 계산하는 알고리즘입니다. \n",
        "\n",
        "그러기 위해서 수식의 후위 표기법 (postfix notation) 이라는 것을 이용합니다.\n",
        "\n"
      ]
    },
    {
      "metadata": {
        "id": "mhmZYdd5o2JX",
        "colab_type": "text"
      },
      "cell_type": "markdown",
      "source": [
        "- A + B < = 이런 기본적 표기법이  중위 표기법(infix notation)\n",
        "\n",
        "- Ex) (A+B) \\* (C+D)  => AB+CD+\\*\n",
        "\n",
        "- Ex) A + B \\* C  => ABC\\*+\n",
        "- Ex) A + B + C => AB+C+\n",
        "\n"
      ]
    },
    {
      "metadata": {
        "id": "81xEtyN3p2yf",
        "colab_type": "text"
      },
      "cell_type": "markdown",
      "source": [
        "왼쪽부터 수식을 읽으면서 연산자를 만날 때마다 두 피연산자에 그 셈을 적용하며, 이 때 스택이 이용됩니다."
      ]
    },
    {
      "metadata": {
        "id": "C1O5u9G3r_uq",
        "colab_type": "text"
      },
      "cell_type": "markdown",
      "source": [
        "## (2-1) infix notation => postfix notation 변환해보기\n",
        "\n",
        "## 기본 알고리즘\n",
        "\n",
        "- 수식의 왼쪽부터 돌면서 피연산자는 그냥 바로 작성하고 \n",
        "\n",
        "- 연산자는 스택에 push \n",
        "- 다음 연산자가 들어오면 스택의 맨 위 연산자와 우선순위 비교 \n",
        "    - 스택의 우선순위가 같거나 크면 pop 하고 다음 연산자는 스택에 push \n",
        "    \n",
        "    - 우선순위가 낮으면 그냥 다음 연산자를 push\n",
        "\n",
        "## 괄호의 처리\n",
        "\n",
        "- 여는 괄호를 만나면 무조건 스택에 push , 닫는 괄호를 만나면 여는 괄호가 나올 때까지 pop\n",
        "\n",
        "   Ex) (A+B)\\*C => AB+C\\*\n",
        "    \n",
        "- 연산자를 만났을 때, 여는 괄호 너머까지 pop하지 않도록  처리해야함  (즉, 여는괄호는 비교연산시에 우선순위 가장 낮도록 설정)\n",
        "\n",
        "    Ex) A\\*(B+C)  => ABC+*\n",
        "   \n",
        "    \n"
      ]
    },
    {
      "metadata": {
        "id": "5TujtaYQzcRU",
        "colab_type": "text"
      },
      "cell_type": "markdown",
      "source": [
        "## 최종 알고리즘 설계\n",
        "\n",
        "### (1) 연산자의 우선순위 설정하기 (사칙연산과 소괄호만 사용함)\n",
        "\n",
        "- 중위 표현식을 왼쪽부터 한 글자씩 읽어서\n",
        "    - 피연산자이면 그냥 출력\n",
        "    - '('이면 스택에 push\n",
        "    - ')'이면 '('이 나올 때까지 스택에서 pop하고 출력\n",
        "    - 연산자이면 스택 맨위보다 높거나 같은 우선순위것을 pop 하고 출력 ( 이때 여는괄호는 우선순위 낮음 )\n",
        "    \n",
        "        - 그리고 이 연산자는 스택에 push\n",
        "- 다 돌고 스택에 남아 있는 연산자는 모두 pop, 출력\n",
        "\n",
        "\n",
        "### (2) 유의점 \n",
        "\n",
        "- 스택의 맨 뒤에 있는 연산자와의 우선순위 비교 \n",
        "    - 스택의 peek() 연산 이용\n",
        "\n",
        "- 스택에 남아 있는 연산자 모두 pop() 하는 순환문\n",
        "    - while not opStack.isEmpty():\n",
        "    \n",
        "    즉, 스택이 비어있지 않는동안 순환해라\n",
        "\n"
      ]
    },
    {
      "metadata": {
        "id": "NRj5-_NKXEHs",
        "colab_type": "code",
        "colab": {}
      },
      "cell_type": "code",
      "source": [
        "prec = {\n",
        "    '*': 3, '/': 3,\n",
        "    '+': 2, '-': 2,\n",
        "    '(': 1\n",
        "       }\n",
        "\n",
        "class ArrayStack:\n",
        "\n",
        "    def __init__(self):\n",
        "        self.data = []\n",
        "\n",
        "    def size(self):\n",
        "        return len(self.data)\n",
        "\n",
        "    def isEmpty(self):\n",
        "        return self.size() == 0\n",
        "\n",
        "    def push(self, item):\n",
        "        self.data.append(item)\n",
        "\n",
        "    def pop(self):\n",
        "        return self.data.pop()\n",
        "\n",
        "    def peek(self):\n",
        "        return self.data[-1]\n"
      ],
      "execution_count": 0,
      "outputs": []
    },
    {
      "metadata": {
        "id": "yt7zZt2nlst6",
        "colab_type": "code",
        "colab": {}
      },
      "cell_type": "code",
      "source": [
        "# 소괄호만 사용가능\n",
        "\n",
        "def solution(S):\n",
        "    opStack = ArrayStack() \n",
        "    answer = []\n",
        "    \n",
        "    for c in S:\n",
        "        if c not in prec and c != ')':  # 피연산자면\n",
        "            answer.append(c)\n",
        "        elif c == ')':  \n",
        "            while opStack.peek() != '(':\n",
        "                    answer.append(opStack.pop())\n",
        "            opStack.pop()  # 여는괄호도 pop\n",
        "        else:\n",
        "            if c == '(':  # 여는괄호는 무조건 push\n",
        "                opStack.push(c)\n",
        "            elif c in prec:  # 연산자면 우선순위비교\n",
        "                if opStack.size() == 0 or prec[opStack.peek()] < prec[c] :\n",
        "                    opStack.push(c)\n",
        "                else:\n",
        "                    answer.append(opStack.pop())\n",
        "                    opStack.push(c)\n",
        "            \n",
        "    while not opStack.isEmpty():   # S를 다 돌고나서 스택에 있던 것들 pop               \n",
        "        answer.append(opStack.pop())\n",
        "        \n",
        "    answer = [x for x in answer if x != '(']\n",
        "    answer = [x for x in answer if x != ')']\n",
        "           \n",
        "    return (''.join(answer))"
      ],
      "execution_count": 0,
      "outputs": []
    },
    {
      "metadata": {
        "id": "OfqeALnjlvfh",
        "colab_type": "code",
        "colab": {
          "base_uri": "https://localhost:8080/",
          "height": 35
        },
        "outputId": "bb2724c2-2c35-49a4-da68-bc9086192d0e"
      },
      "cell_type": "code",
      "source": [
        "solution('(A+B)*(C+D)')"
      ],
      "execution_count": 88,
      "outputs": [
        {
          "output_type": "execute_result",
          "data": {
            "text/plain": [
              "'AB+CD+*'"
            ]
          },
          "metadata": {
            "tags": []
          },
          "execution_count": 88
        }
      ]
    },
    {
      "metadata": {
        "id": "GoHIWKyp3z-O",
        "colab_type": "code",
        "colab": {}
      },
      "cell_type": "code",
      "source": [
        ""
      ],
      "execution_count": 0,
      "outputs": []
    }
  ]
}